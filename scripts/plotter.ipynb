{
 "cells": [
  {
   "cell_type": "code",
   "execution_count": null,
   "id": "938b3b34",
   "metadata": {
    "vscode": {
     "languageId": "plaintext"
    }
   },
   "outputs": [],
   "source": [
    "import numpy as np\n",
    "import matplotlib.pyplot as plt\n",
    "import matplotlib.colors as mcolors\n",
    "import pandas as pd\n",
    "\n",
    "\n",
    "def plot_by_shots(avg_csv_path:str, std_csv_path:str, limits:tuple, figsize:tuple=(14, 5)) -> None:\n",
    "    avg_df = pd.read_csv(avg_csv_path)\n",
    "    std_df = pd.read_csv(std_csv_path)\n",
    "    methods = avg_df.iloc[:, 0].tolist()\n",
    "    shots = list(avg_df.columns)[1:]\n",
    "\n",
    "    color_category = {\n",
    "        \"Baseline\": \"blue\", \"CSR\": \"blue\", \"ER\": \"blue\",\n",
    "        \"Dropout\": \"orange\", \"DropMessage\": \"orange\", \"DropNode\": \"orange\", \"DropEdge\": \"orange\", \"DropAttributes\": \"orange\",\n",
    "        \"Augmentation\": \"brown\", \"Rewiring\": \"brown\",\n",
    "        \"ProtoNet\": \"red\",\n",
    "        \"Siamese_PW\": \"green\", \"Siamese_PW_A\": \"green\", \"Siamese_TPL\": \"green\", \"Siamese_TPL_A\": \"green\",\n",
    "        \"Graph_CL\": \"purple\"\n",
    "    }\n",
    "    alpha_map = {\n",
    "        \"Baseline\": 0.9, \"CSR\": 0.7, \"ER\": 0.5,\n",
    "        \"Dropout\": 1.0, \"DropMessage\": 0.8, \"DropNode\": 0.6, \"DropEdge\": 0.4, \"DropAttributes\": 0.2,\n",
    "        \"Augmentation\": 0.8, \"Rewiring\": 0.4,\n",
    "        \"ProtoNet\": 1.0,\n",
    "        \"Siamese_PW\": 0.9, \"Siamese_PW_A\": 0.7, \"Siamese_TPL\": 0.5, \"Siamese_TPL_A\": 0.3,\n",
    "        \"Graph_CL\": 1.0\n",
    "    }\n",
    "\n",
    "    plt.figure(figsize=figsize)\n",
    "    for i, method in enumerate(methods):\n",
    "        means = avg_df.iloc[i, 1:].values\n",
    "        stds = std_df.iloc[i, 1:].values\n",
    "        base_color = color_category.get(method, \"gray\")\n",
    "        alpha = alpha_map.get(method, 0.7)\n",
    "        rgba_color = mcolors.to_rgba(base_color, alpha=alpha)\n",
    "        num_methods = len(methods)\n",
    "        bar_width = 0.8 / num_methods\n",
    "        offset = (i - (num_methods - 1) / 2) * bar_width\n",
    "        plt.bar(np.arange(len(means)) + offset, means, bar_width, yerr=stds, capsize=3, color=rgba_color, label=method)\n",
    "    \n",
    "    plt.xlabel(\"Number of Samples per Class\")\n",
    "    plt.ylabel(\"Accuracy\")\n",
    "    plt.title(\"Accuracy by Number of Samples per Class\")\n",
    "    plt.xticks(np.arange(len(shots)), shots)\n",
    "    plt.ylim(limits[0], limits[1])\n",
    "    plt.legend(bbox_to_anchor=(1.05, 1), loc=\"upper left\")\n",
    "    plt.tight_layout()\n",
    "    plt.show()\n",
    "\n",
    "\n",
    "def plot_by_method(avg_csv_path:str, std_csv_path:str, limits:tuple, figsize:tuple=(14, 5)) -> None:\n",
    "    avg_df = pd.read_csv(avg_csv_path)\n",
    "    std_df = pd.read_csv(std_csv_path)\n",
    "    methods = avg_df.iloc[:, 0].tolist()\n",
    "    shots = list(avg_df.columns)[1:]\n",
    "\n",
    "    plt.figure(figsize=figsize)\n",
    "    for j in range(len(shots)):\n",
    "        means = avg_df.iloc[:, j + 1].values\n",
    "        stds = std_df.iloc[:, j + 1].values\n",
    "        num_methods = len(methods)\n",
    "        bar_width = 0.8 / len(shots)\n",
    "        offset = (j - (len(shots) - 1) / 2) * bar_width\n",
    "        plt.bar(np.arange(num_methods) + offset, means, bar_width, yerr=stds, capsize=3, label=f'{shots[j]} samples')\n",
    "    plt.xlabel(\"Method\")\n",
    "    plt.ylabel(\"Accuracy\")\n",
    "    plt.title(\"Accuracy by Method\")\n",
    "    plt.xticks(np.arange(num_methods), methods, rotation=45, ha='right')\n",
    "    plt.ylim(limits[0], limits[1])\n",
    "    plt.legend(title=\"Samples per Class\", bbox_to_anchor=(1.05, 1), loc='upper left')\n",
    "    plt.tight_layout()\n",
    "    plt.show()\n"
   ]
  },
  {
   "cell_type": "code",
   "execution_count": null,
   "id": "3774dd7d",
   "metadata": {
    "vscode": {
     "languageId": "plaintext"
    }
   },
   "outputs": [],
   "source": [
    "plot_by_shots(\n",
    "    avg_csv_path='/home/nicolamaestri/nm_gnn/scripts/node_classification/results/CiteSeer/avg_acc.csv',\n",
    "    std_csv_path='/home/nicolamaestri/nm_gnn/scripts/node_classification/results/CiteSeer/std_acc.csv',\n",
    "    limits=(50, 105),\n",
    "    figsize=(14, 5)\n",
    ")\n",
    "\n",
    "plot_by_method(\n",
    "    avg_csv_path='/home/nicolamaestri/nm_gnn/scripts/node_classification/results/CiteSeer/avg_acc.csv',\n",
    "    std_csv_path='/home/nicolamaestri/nm_gnn/scripts/node_classification/results/CiteSeer/std_acc.csv',\n",
    "    limits=(50, 105),\n",
    "    figsize=(14, 5)\n",
    ")"
   ]
  }
 ],
 "metadata": {
  "language_info": {
   "name": "python"
  }
 },
 "nbformat": 4,
 "nbformat_minor": 5
}
